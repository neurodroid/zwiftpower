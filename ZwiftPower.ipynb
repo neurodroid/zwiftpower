{
 "cells": [
  {
   "cell_type": "code",
   "execution_count": 1,
   "id": "secure-typing",
   "metadata": {},
   "outputs": [],
   "source": [
    "import matplotlib\n",
    "%matplotlib widget\n",
    "import matplotlib.pyplot as plt\n",
    "\n",
    "import os\n",
    "import copy\n",
    "import datetime\n",
    "import numpy as np\n",
    "from scipy.stats import pearsonr\n",
    "\n",
    "import zwiftpower"
   ]
  },
  {
   "cell_type": "markdown",
   "id": "insured-cable",
   "metadata": {},
   "source": [
    "## URLs of some (legit) .fit files\n",
    "Simultaneously recorded with Zwift/Kickr Core ('zwift') and Garmin Edge 530/Garmin Vector 3 ('extern')\n",
    "\n",
    "From https://zwiftpower.com/analysis.php?set_id=76982"
   ]
  },
  {
   "cell_type": "code",
   "execution_count": 2,
   "id": "divine-cable",
   "metadata": {},
   "outputs": [],
   "source": [
    "url_legit = {\n",
    "    'zwift': \n",
    "        \"https://s3-fit-prd-uswest2-zwift.s3.amazonaws.com/prod/1101955/ba0d2670-693460566163739712\",\n",
    "    'extern':\n",
    "        \"https://zwift-zwiftpower-prd-artifacts.s3.amazonaws.com/user/prd-dmz/analysis/analysis_1101955_136049.fit\"\n",
    "}"
   ]
  },
  {
   "cell_type": "markdown",
   "id": "relative-secretary",
   "metadata": {},
   "source": [
    "## Download files, parse & plot power data"
   ]
  },
  {
   "cell_type": "code",
   "execution_count": 3,
   "id": "perceived-korea",
   "metadata": {},
   "outputs": [
    {
     "name": "stdout",
     "output_type": "stream",
     "text": [
      "Downloading...\n",
      "Parsing...\n",
      "Downloading...\n",
      "Parsing...\n"
     ]
    }
   ],
   "source": [
    "filenames = {}\n",
    "timeseries = {}\n",
    "sources = ['zwift', 'extern']\n",
    "for source in sources:\n",
    "    print(\"Downloading...\")\n",
    "    filenames[source] = zwiftpower.get_fitfile(url_legit[source])\n",
    "    print(\"Parsing...\")\n",
    "    timeseries[source], dt = zwiftpower.parse_fitfile(filenames[source], verbose=False)"
   ]
  },
  {
   "cell_type": "code",
   "execution_count": 4,
   "id": "expensive-minnesota",
   "metadata": {},
   "outputs": [
    {
     "data": {
      "application/vnd.jupyter.widget-view+json": {
       "model_id": "4ad35b7dbe0f46ed927a01a540cd00b7",
       "version_major": 2,
       "version_minor": 0
      },
      "text/plain": [
       "Canvas(toolbar=Toolbar(toolitems=[('Home', 'Reset original view', 'home', 'home'), ('Back', 'Back to previous …"
      ]
     },
     "metadata": {},
     "output_type": "display_data"
    },
    {
     "data": {
      "text/plain": [
       "<matplotlib.legend.Legend at 0x134cdab50>"
      ]
     },
     "execution_count": 4,
     "metadata": {},
     "output_type": "execute_result"
    }
   ],
   "source": [
    "fig = plt.figure()\n",
    "ax0 = fig.add_subplot()\n",
    "for source in sources:\n",
    "    ax0.plot(timeseries[source], label=source, alpha=0.8)\n",
    "zwiftpower.prettify_plot(ax0)\n",
    "ax0.set_xlabel('Time (hh:mm:ss)')\n",
    "ax0.set_ylabel('Power (W)')\n",
    "ax0.legend(frameon=False)"
   ]
  },
  {
   "cell_type": "markdown",
   "id": "worthy-frame",
   "metadata": {},
   "source": [
    "## Align recordings\n",
    "We account both for different start times and for time offsets between devices\n",
    "by finding the time lag that produces the largest correlation"
   ]
  },
  {
   "cell_type": "code",
   "execution_count": 5,
   "id": "careful-angel",
   "metadata": {},
   "outputs": [
    {
     "name": "stdout",
     "output_type": "stream",
     "text": [
      "Difference in recording start time: 640.000s\n",
      "Offset between devices: 1.100s\n"
     ]
    }
   ],
   "source": [
    "net_lag, recording_lag, lags = zwiftpower.align_fit_timeseries(\n",
    "    timeseries['zwift'], timeseries['extern'], dt=dt)\n",
    "print(\n",
    "    \"Difference in recording start time: {0:.3f}s\".format(recording_lag))\n",
    "print(\n",
    "    \"Offset between devices: {0:.3f}s\".format(net_lag))\n",
    "timeseries['extern'].index += datetime.timedelta(seconds=net_lag)\n",
    "\n",
    "residuals = timeseries['zwift']-timeseries['extern']"
   ]
  },
  {
   "cell_type": "code",
   "execution_count": 6,
   "id": "fossil-polyester",
   "metadata": {},
   "outputs": [
    {
     "data": {
      "application/vnd.jupyter.widget-view+json": {
       "model_id": "1a586aa1b3fe4aa2af7e44d93e5d57bc",
       "version_major": 2,
       "version_minor": 0
      },
      "text/plain": [
       "Canvas(toolbar=Toolbar(toolitems=[('Home', 'Reset original view', 'home', 'home'), ('Back', 'Back to previous …"
      ]
     },
     "metadata": {},
     "output_type": "display_data"
    },
    {
     "data": {
      "text/plain": [
       "Text(0, 0.5, '$\\\\Delta$ Power (W)')"
      ]
     },
     "execution_count": 6,
     "metadata": {},
     "output_type": "execute_result"
    }
   ],
   "source": [
    "fig = plt.figure()\n",
    "ax0 = fig.add_subplot(211)\n",
    "ax1 = fig.add_subplot(212, sharex=ax0)\n",
    "for source in sources:\n",
    "    ax0.plot(timeseries[source], label=source, alpha=0.8)\n",
    "ax1.plot(residuals)\n",
    "for ax in [ax0, ax1]:\n",
    "    zwiftpower.prettify_plot(ax)\n",
    "ax0.legend(frameon=False)\n",
    "ax0.spines['bottom'].set_visible(False)\n",
    "ax0.xaxis.set_visible(False)\n",
    "ax0.set_ylabel(\"Power (W)\")\n",
    "ax1.set_xlabel(\"Time (hh:mm:ss)\")\n",
    "ax1.set_ylabel(r\"$\\Delta$ Power (W)\")"
   ]
  },
  {
   "cell_type": "markdown",
   "id": "secret-identity",
   "metadata": {},
   "source": [
    "## Use only the part of the recordings that is common to both sources"
   ]
  },
  {
   "cell_type": "code",
   "execution_count": 7,
   "id": "studied-multiple",
   "metadata": {},
   "outputs": [],
   "source": [
    "tstart = np.max((timeseries['zwift'].index[0], timeseries['extern'].index[0]))\n",
    "tend = np.min((timeseries['zwift'].index[-1], timeseries['extern'].index[-1]))\n",
    "timeseries_cut = {\n",
    "    source: timeseries[source][0][\n",
    "        (timeseries[source].index >= tstart) & (timeseries[source].index <= tend)]\n",
    "    for source in sources\n",
    "}\n"
   ]
  },
  {
   "cell_type": "markdown",
   "id": "chicken-excuse",
   "metadata": {},
   "source": [
    "## Compare power data from Zwift and external source"
   ]
  },
  {
   "cell_type": "code",
   "execution_count": 8,
   "id": "dimensional-formation",
   "metadata": {},
   "outputs": [
    {
     "data": {
      "application/vnd.jupyter.widget-view+json": {
       "model_id": "f5e76c144ed4491fad25788eec7faef9",
       "version_major": 2,
       "version_minor": 0
      },
      "text/plain": [
       "Canvas(toolbar=Toolbar(toolitems=[('Home', 'Reset original view', 'home', 'home'), ('Back', 'Back to previous …"
      ]
     },
     "metadata": {},
     "output_type": "display_data"
    },
    {
     "name": "stdout",
     "output_type": "stream",
     "text": [
      "Correlation coefficient: 0.9735\n"
     ]
    }
   ],
   "source": [
    "fig = plt.figure()\n",
    "ax, histo, bins = zwiftpower.plot_unity_residuals(\n",
    "    timeseries_cut['zwift'], timeseries_cut['extern'], fig, ratio=8.0, bins=100)\n",
    "zwiftpower.prettify_plot(ax)\n",
    "ax.set_xlabel('Power from Zwift (W)')\n",
    "ax.set_ylabel('Power from external source (W)')\n",
    "r, p = pearsonr(timeseries_cut['zwift'], timeseries_cut['extern'])\n",
    "print(\"Correlation coefficient: {0:.4f}\".format(r))"
   ]
  },
  {
   "cell_type": "markdown",
   "id": "moved-prison",
   "metadata": {},
   "source": [
    "## Plot residuals, fit with normal distribution"
   ]
  },
  {
   "cell_type": "code",
   "execution_count": 9,
   "id": "designed-screen",
   "metadata": {},
   "outputs": [
    {
     "data": {
      "application/vnd.jupyter.widget-view+json": {
       "model_id": "ae553b6cd22d4079a93b4db1e711752a",
       "version_major": 2,
       "version_minor": 0
      },
      "text/plain": [
       "Canvas(toolbar=Toolbar(toolitems=[('Home', 'Reset original view', 'home', 'home'), ('Back', 'Back to previous …"
      ]
     },
     "metadata": {},
     "output_type": "display_data"
    }
   ],
   "source": [
    "zwiftpower.plot_residual_distribution(timeseries_cut['zwift'], timeseries_cut['extern'])"
   ]
  },
  {
   "cell_type": "markdown",
   "id": "inside-commission",
   "metadata": {},
   "source": [
    "## Plot cross correlation to account for time lags between recordings"
   ]
  },
  {
   "cell_type": "code",
   "execution_count": 10,
   "id": "confused-choir",
   "metadata": {},
   "outputs": [
    {
     "data": {
      "application/vnd.jupyter.widget-view+json": {
       "model_id": "772860b09c8f45fca0d1b5e92f103638",
       "version_major": 2,
       "version_minor": 0
      },
      "text/plain": [
       "Canvas(toolbar=Toolbar(toolitems=[('Home', 'Reset original view', 'home', 'home'), ('Back', 'Back to previous …"
      ]
     },
     "metadata": {},
     "output_type": "display_data"
    }
   ],
   "source": [
    "xcorr = zwiftpower.xcorr(timeseries['zwift'][0], timeseries['extern'][0])\n",
    "period = 20.0\n",
    "fig = plt.figure()\n",
    "ax = fig.add_subplot()\n",
    "ax.plot(lags+recording_lag, xcorr)\n",
    "peak = np.argmax(xcorr)\n",
    "ymin = np.min(xcorr[\n",
    "    (lags+recording_lag >= (lags+recording_lag)[peak]-period) &\n",
    "    (lags+recording_lag < (lags+recording_lag)[peak]+period)\n",
    "])\n",
    "ymax = np.max(xcorr[\n",
    "    (lags+recording_lag >= (lags+recording_lag)[peak]-period) &\n",
    "    (lags+recording_lag < (lags+recording_lag)[peak]+period)\n",
    "])\n",
    "ax.set_xlim(\n",
    "    (lags+recording_lag)[peak]-period,\n",
    "    (lags+recording_lag)[peak]+period)\n",
    "ax.set_ylim(ymin, ymax)\n",
    "ax.set_ylabel(r\"Correlation ($r$)\")\n",
    "ax.set_xlabel(\"Lag (s)\")\n",
    "zwiftpower.prettify_plot(ax)"
   ]
  },
  {
   "cell_type": "markdown",
   "id": "amazing-blocking",
   "metadata": {},
   "source": [
    "## Print out some minimal stats"
   ]
  },
  {
   "cell_type": "code",
   "execution_count": 11,
   "id": "social-breakfast",
   "metadata": {},
   "outputs": [
    {
     "name": "stdout",
     "output_type": "stream",
     "text": [
      "Mean power (zwift): 325.38W\n",
      "Mean power (extern): 324.45W\n",
      "Mean residual (\"offset\"): 0.92W\n",
      "Mean absolute residual (\"precision\"): 10.42W\n",
      "Mean absolute residual after accounting for offset(\"precision\"): 10.40W\n",
      "Mean relative residual after accounting for offset (\"precision\"): 3.20%\n",
      "Residual variance: 197.63W^2\n"
     ]
    }
   ],
   "source": [
    "zwiftpower.summarize_stats(timeseries_cut['zwift'], timeseries_cut['extern'], sources)"
   ]
  },
  {
   "cell_type": "markdown",
   "id": "informational-letters",
   "metadata": {},
   "source": [
    "## Simple fake data"
   ]
  },
  {
   "cell_type": "code",
   "execution_count": 18,
   "id": "present-webster",
   "metadata": {},
   "outputs": [],
   "source": [
    "sources = ['zwift', 'fake']\n",
    "timeseries['fake'] = copy.deepcopy(timeseries['zwift'])\n",
    "timeseries['fake'][0] += 5.0 + np.random.normal(0, np.sqrt(197.63), timeseries['fake'][0].shape)"
   ]
  },
  {
   "cell_type": "code",
   "execution_count": 19,
   "id": "acute-sarah",
   "metadata": {},
   "outputs": [
    {
     "name": "stderr",
     "output_type": "stream",
     "text": [
      "<ipython-input-19-9a9b11789150>:1: RuntimeWarning: More than 20 figures have been opened. Figures created through the pyplot interface (`matplotlib.pyplot.figure`) are retained until explicitly closed and may consume too much memory. (To control this warning, see the rcParam `figure.max_open_warning`).\n",
      "  fig = plt.figure()\n"
     ]
    },
    {
     "data": {
      "application/vnd.jupyter.widget-view+json": {
       "model_id": "0ea654d02b3e4fd79eb8a85a3a5e2499",
       "version_major": 2,
       "version_minor": 0
      },
      "text/plain": [
       "Canvas(toolbar=Toolbar(toolitems=[('Home', 'Reset original view', 'home', 'home'), ('Back', 'Back to previous …"
      ]
     },
     "metadata": {},
     "output_type": "display_data"
    },
    {
     "name": "stdout",
     "output_type": "stream",
     "text": [
      "Difference in recording start time: 0.000s\n",
      "Offset between devices: 0.000s\n"
     ]
    },
    {
     "data": {
      "application/vnd.jupyter.widget-view+json": {
       "model_id": "12396de7eadd4c37bd92cf541ad437a9",
       "version_major": 2,
       "version_minor": 0
      },
      "text/plain": [
       "Canvas(toolbar=Toolbar(toolitems=[('Home', 'Reset original view', 'home', 'home'), ('Back', 'Back to previous …"
      ]
     },
     "metadata": {},
     "output_type": "display_data"
    },
    {
     "data": {
      "application/vnd.jupyter.widget-view+json": {
       "model_id": "8f4e7c444fb74a0d901b82d9ed9cb1d6",
       "version_major": 2,
       "version_minor": 0
      },
      "text/plain": [
       "Canvas(toolbar=Toolbar(toolitems=[('Home', 'Reset original view', 'home', 'home'), ('Back', 'Back to previous …"
      ]
     },
     "metadata": {},
     "output_type": "display_data"
    },
    {
     "name": "stdout",
     "output_type": "stream",
     "text": [
      "Correlation coefficient: 0.9746\n"
     ]
    },
    {
     "data": {
      "application/vnd.jupyter.widget-view+json": {
       "model_id": "8a4004fac5ba42f8b1462b6a1e48bd7a",
       "version_major": 2,
       "version_minor": 0
      },
      "text/plain": [
       "Canvas(toolbar=Toolbar(toolitems=[('Home', 'Reset original view', 'home', 'home'), ('Back', 'Back to previous …"
      ]
     },
     "metadata": {},
     "output_type": "display_data"
    },
    {
     "data": {
      "application/vnd.jupyter.widget-view+json": {
       "model_id": "a3019794e1244dfb9cacaedd2a54318e",
       "version_major": 2,
       "version_minor": 0
      },
      "text/plain": [
       "Canvas(toolbar=Toolbar(toolitems=[('Home', 'Reset original view', 'home', 'home'), ('Back', 'Back to previous …"
      ]
     },
     "metadata": {},
     "output_type": "display_data"
    },
    {
     "name": "stdout",
     "output_type": "stream",
     "text": [
      "Mean power (zwift): 325.38W\n",
      "Mean power (fake): 330.44W\n",
      "Mean residual (\"offset\"): -5.06W\n",
      "Mean absolute residual (\"precision\"): 11.92W\n",
      "Mean absolute residual after accounting for offset(\"precision\"): 11.19W\n",
      "Mean relative residual after accounting for offset (\"precision\"): 3.41%\n",
      "Residual variance: 196.29W^2\n"
     ]
    }
   ],
   "source": [
    "fig = plt.figure()\n",
    "ax0 = fig.add_subplot()\n",
    "for source in sources:\n",
    "    ax0.plot(timeseries[source], label=source, alpha=0.8)\n",
    "zwiftpower.prettify_plot(ax0)\n",
    "ax0.set_xlabel('Time (hh:mm:ss)')\n",
    "ax0.set_ylabel('Power (W)')\n",
    "ax0.legend(frameon=False)\n",
    "net_lag, recording_lag, lags = zwiftpower.align_fit_timeseries(\n",
    "    timeseries['zwift'], timeseries['fake'], dt=dt)\n",
    "print(\n",
    "    \"Difference in recording start time: {0:.3f}s\".format(recording_lag))\n",
    "print(\n",
    "    \"Offset between devices: {0:.3f}s\".format(net_lag))\n",
    "timeseries['fake'].index += datetime.timedelta(seconds=net_lag)\n",
    "residuals = timeseries['zwift']-timeseries['fake']\n",
    "fig = plt.figure()\n",
    "ax0 = fig.add_subplot(211)\n",
    "ax1 = fig.add_subplot(212, sharex=ax0)\n",
    "for source in sources:\n",
    "    ax0.plot(timeseries[source], label=source, alpha=0.8)\n",
    "ax1.plot(residuals)\n",
    "for ax in [ax0, ax1]:\n",
    "    zwiftpower.prettify_plot(ax)\n",
    "ax0.legend(frameon=False)\n",
    "ax0.spines['bottom'].set_visible(False)\n",
    "ax0.xaxis.set_visible(False)\n",
    "ax0.set_ylabel(\"Power (W)\")\n",
    "ax1.set_xlabel(\"Time (hh:mm:ss)\")\n",
    "ax1.set_ylabel(r\"$\\Delta$ Power (W)\")\n",
    "tstart = np.max((timeseries['zwift'].index[0], timeseries['fake'].index[0]))\n",
    "tend = np.min((timeseries['zwift'].index[-1], timeseries['fake'].index[-1]))\n",
    "timeseries_cut = {\n",
    "    source: timeseries[source][0][\n",
    "        (timeseries[source].index >= tstart) & (timeseries[source].index <= tend)]\n",
    "    for source in sources\n",
    "}\n",
    "fig = plt.figure()\n",
    "ax, histo, bins = zwiftpower.plot_unity_residuals(\n",
    "    timeseries_cut['zwift'], timeseries_cut['fake'], fig, ratio=8.0, bins=100)\n",
    "zwiftpower.prettify_plot(ax)\n",
    "ax.set_xlabel('Power from Zwift (W)')\n",
    "ax.set_ylabel('Power from external source (W)')\n",
    "r, p = pearsonr(timeseries_cut['zwift'], timeseries_cut['fake'])\n",
    "print(\"Correlation coefficient: {0:.4f}\".format(r))\n",
    "zwiftpower.plot_residual_distribution(timeseries_cut['zwift'], timeseries_cut['fake'])\n",
    "xcorr = zwiftpower.xcorr(timeseries['zwift'][0], timeseries['fake'][0])\n",
    "period = 20.0\n",
    "fig = plt.figure()\n",
    "ax = fig.add_subplot()\n",
    "ax.plot(lags+recording_lag, xcorr)\n",
    "peak = np.argmax(xcorr)\n",
    "ymin = np.min(xcorr[\n",
    "    (lags+recording_lag >= (lags+recording_lag)[peak]-period) &\n",
    "    (lags+recording_lag < (lags+recording_lag)[peak]+period)\n",
    "])\n",
    "ymax = np.max(xcorr[\n",
    "    (lags+recording_lag >= (lags+recording_lag)[peak]-period) &\n",
    "    (lags+recording_lag < (lags+recording_lag)[peak]+period)\n",
    "])\n",
    "ax.set_xlim(\n",
    "    (lags+recording_lag)[peak]-period,\n",
    "    (lags+recording_lag)[peak]+period)\n",
    "ax.set_ylim(ymin, ymax)\n",
    "ax.set_ylabel(r\"Correlation ($r$)\")\n",
    "ax.set_xlabel(\"Lag (s)\")\n",
    "zwiftpower.prettify_plot(ax)\n",
    "zwiftpower.summarize_stats(timeseries_cut['zwift'], timeseries_cut['fake'], sources)\n"
   ]
  },
  {
   "cell_type": "code",
   "execution_count": null,
   "id": "behavioral-familiar",
   "metadata": {},
   "outputs": [],
   "source": []
  },
  {
   "cell_type": "code",
   "execution_count": null,
   "id": "electrical-paintball",
   "metadata": {},
   "outputs": [],
   "source": []
  }
 ],
 "metadata": {
  "kernelspec": {
   "display_name": "Python 3",
   "language": "python",
   "name": "python3"
  },
  "language_info": {
   "codemirror_mode": {
    "name": "ipython",
    "version": 3
   },
   "file_extension": ".py",
   "mimetype": "text/x-python",
   "name": "python",
   "nbconvert_exporter": "python",
   "pygments_lexer": "ipython3",
   "version": "3.8.8"
  }
 },
 "nbformat": 4,
 "nbformat_minor": 5
}
